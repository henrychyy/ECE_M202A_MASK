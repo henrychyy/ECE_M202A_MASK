{
 "cells": [
  {
   "cell_type": "code",
   "execution_count": 25,
   "metadata": {},
   "outputs": [
    {
     "name": "stdout",
     "output_type": "stream",
     "text": [
      "Accuracy 0.9642857142857143\n",
      "Exported classifier to plain C\n"
     ]
    }
   ],
   "source": [
    "import numpy as np\n",
    "from os.path import basename\n",
    "from glob import glob\n",
    "from sklearn.svm import SVC\n",
    "from sklearn_porter import Porter\n",
    "from sklearn.model_selection import train_test_split\n",
    "from micromlgen import port\n",
    "dataset = None\n",
    "classmap={}\n",
    "for class_idx, filename in enumerate(glob('C:\\\\Users\\\\hongy\\\\ECE 202\\\\*.csv' )):\n",
    "    class_name = basename(filename)[:-4]\n",
    "    classmap[class_idx] = class_name\n",
    "    samples = np.loadtxt(filename, dtype=float, delimiter=',')\n",
    "    labels = np.ones((len(samples), 1)) * class_idx\n",
    "    samples = np.hstack((samples, labels))\n",
    "    dataset = samples if dataset is None else np.vstack((dataset, samples))\n",
    "\n",
    "np.random.seed(0)\n",
    "X, y = dataset[:, :-1], dataset[:, -1]\n",
    "\n",
    "X_train, X_test, y_train, y_test = train_test_split(X, y, test_size=0.2)\n",
    "\n",
    "clf = SVC(gamma=0.001)\n",
    "clf.fit(X_train, y_train)\n",
    "\n",
    "print('Accuracy', clf.score(X_test, y_test))\n",
    "print('Exported classifier to plain C')\n",
    "#print(port(clf, classmap=classmap))\n",
    "#print(output)"
   ]
  },
  {
   "cell_type": "code",
   "execution_count": null,
   "metadata": {},
   "outputs": [],
   "source": [
    "import numpy as np\n",
    "from os.path import basename\n",
    "from glob import glob\n",
    "from sklearn.svm import SVC\n",
    "from sklearn_porter import Porter\n",
    "from sklearn.model_selection import train_test_split\n",
    "from sklearn.ensemble import RandomForestClassifier\n",
    "dataset = None\n",
    "for class_idx, filename in enumerate(glob('C:\\\\Users\\\\hongy\\\\ECE 202\\\\*.csv' )):\n",
    "    class_name = basename(filename)[:-4]\n",
    "    samples = np.loadtxt(filename, dtype=float, delimiter=',')\n",
    "    labels = np.ones((len(samples), 1)) * class_idx\n",
    "    samples = np.hstack((samples, labels))\n",
    "    dataset = samples if dataset is None else np.vstack((dataset, samples))\n",
    "\n",
    "np.random.seed(0)\n",
    "X, y = dataset[:, :-1], dataset[:, -1]\n",
    "\n",
    "X_train, X_test, y_train, y_test = train_test_split(X, y, test_size=0.2)\n",
    "\n",
    "clf = RandomForestClassifier()\n",
    "clf.fit(X_train, y_train)\n",
    "\n",
    "print('Accuracy', clf.score(X_test, y_test))\n",
    "print('Exported classifier to plain C')\n",
    "porter=Porter(clf, language='C')\n",
    "output = porter.export(embed_data=True)\n",
    "print(output)"
   ]
  },
  {
   "cell_type": "code",
   "execution_count": null,
   "metadata": {},
   "outputs": [],
   "source": [
    "import numpy as np\n",
    "from os.path import basename\n",
    "from glob import glob\n",
    "from sklearn.svm import SVC\n",
    "from sklearn_porter import Porter\n",
    "from sklearn.model_selection import train_test_split\n",
    "from sklearn.ensemble import RandomForestClassifier\n",
    "from sklearn.naive_bayes import GaussianNB\n",
    "dataset = None\n",
    "for class_idx, filename in enumerate(glob('C:\\\\Users\\\\hongy\\\\ECE 202\\\\*.csv' )):\n",
    "    class_name = basename(filename)[:-4]\n",
    "    samples = np.loadtxt(filename, dtype=float, delimiter=',')\n",
    "    labels = np.ones((len(samples), 1)) * class_idx\n",
    "    samples = np.hstack((samples, labels))\n",
    "    dataset = samples if dataset is None else np.vstack((dataset, samples))\n",
    "\n",
    "np.random.seed(0)\n",
    "X, y = dataset[:, :-1], dataset[:, -1]\n",
    "\n",
    "X_train, X_test, y_train, y_test = train_test_split(X, y, test_size=0.2)\n",
    "\n",
    "clf = GaussianNB()\n",
    "clf.fit(X_train, y_train)\n",
    "\n",
    "print('Accuracy', clf.score(X_test, y_test))\n",
    "# print('Exported classifier to plain C')\n",
    "# porter=Porter(clf, language='C')\n",
    "# output = porter.export(embed_data=True)\n",
    "# print(output)"
   ]
  },
  {
   "cell_type": "code",
   "execution_count": null,
   "metadata": {},
   "outputs": [],
   "source": [
    "import numpy as np\n",
    "from os.path import basename\n",
    "from glob import glob\n",
    "from sklearn.svm import SVC\n",
    "from sklearn_porter import Porter\n",
    "from sklearn.model_selection import train_test_split\n",
    "from sklearn.ensemble import RandomForestClassifier\n",
    "from sklearn.naive_bayes import GaussianNB\n",
    "from sklearn_rvm import EMRVC as rvm\n",
    "dataset = None\n",
    "for class_idx, filename in enumerate(glob('C:\\\\Users\\\\hongy\\\\ECE 202\\\\*.csv' )):\n",
    "    class_name = basename(filename)[:-4]\n",
    "    samples = np.loadtxt(filename, dtype=float, delimiter=',')\n",
    "    labels = np.ones((len(samples), 1)) * class_idx\n",
    "    samples = np.hstack((samples, labels))\n",
    "    dataset = samples if dataset is None else np.vstack((dataset, samples))\n",
    "\n",
    "np.random.seed(0)\n",
    "X, y = dataset[:, :-1], dataset[:, -1]\n",
    "\n",
    "X_train, X_test, y_train, y_test = train_test_split(X, y, test_size=0.2)\n",
    "\n",
    "clf = EMRVC()\n",
    "clf.fit(X_train, y_train)\n",
    "\n",
    "print('Accuracy', clf.score(X_test, y_test))\n",
    "print('Exported classifier to plain C')\n",
    "# porter=Porter(clf, language='C')\n",
    "# output = porter.export(embed_data=True)\n",
    "# print(output)"
   ]
  },
  {
   "cell_type": "code",
   "execution_count": null,
   "metadata": {},
   "outputs": [],
   "source": []
  }
 ],
 "metadata": {
  "kernelspec": {
   "display_name": "Python 3",
   "language": "python",
   "name": "python3"
  },
  "language_info": {
   "codemirror_mode": {
    "name": "ipython",
    "version": 3
   },
   "file_extension": ".py",
   "mimetype": "text/x-python",
   "name": "python",
   "nbconvert_exporter": "python",
   "pygments_lexer": "ipython3",
   "version": "3.7.9"
  }
 },
 "nbformat": 4,
 "nbformat_minor": 4
}
